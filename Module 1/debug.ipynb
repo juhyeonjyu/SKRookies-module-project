{
 "cells": [
  {
   "cell_type": "markdown",
   "id": "094ae6fd",
   "metadata": {},
   "source": [
    "목적 : 정상 URL과 피싱 URL을 분류하기 위한 머신러닝 모델을 학습하고 평가합니다."
   ]
  },
  {
   "cell_type": "code",
   "execution_count": 7,
   "id": "8722c379",
   "metadata": {},
   "outputs": [],
   "source": [
    "import re\n",
    "import pandas as pd\n",
    "from urllib.parse import urlparse\n",
    "from multiprocessing import Pool, cpu_count\n",
    "from tqdm import tqdm\n",
    "from sklearn.model_selection import train_test_split\n",
    "from xgboost import XGBClassifier\n",
    "from sklearn.metrics import classification_report, accuracy_score"
   ]
  },
  {
   "cell_type": "code",
   "execution_count": 8,
   "id": "e9839eb0",
   "metadata": {},
   "outputs": [],
   "source": [
    "# 데이터 불러오기\n",
    "normal = pd.read_csv('정상url_10000.csv')\n",
    "phishing = pd.read_csv('악성url_10000.csv')"
   ]
  },
  {
   "cell_type": "code",
   "execution_count": 9,
   "id": "a40ac9b7",
   "metadata": {},
   "outputs": [],
   "source": [
    "# 데이터 통합\n",
    "df = pd.concat([normal, phishing], ignore_index=True)\n",
    "df = df.dropna(subset=['url']).drop_duplicates(subset=['url'])"
   ]
  },
  {
   "cell_type": "code",
   "execution_count": 10,
   "id": "ee8a5e0f",
   "metadata": {},
   "outputs": [],
   "source": [
    "# Feature 추출\n",
    "# 참고 자료 : https://archive.ics.uci.edu/dataset/327/phishing+websites\n",
    "def extract_url_features(url) :\n",
    "    feature = {}\n",
    "    parsed = urlparse(url)\n",
    "\n",
    "    feature['url_length'] = len(url)            # URL 전체 문자열 길이\n",
    "    feature['num_dots'] = url.count('.')        # URL 내 점(.)의 개수\n",
    "    feature['has_ip'] = int(bool(re.search(r'\\d+\\.\\d+\\.\\d+\\.\\d+', url)))    # IP 주소 포함 여부\n",
    "    feature['has_https'] = int(parsed.scheme == 'https')            # HTTPS 사용 여부      \n",
    "    feature['num_special_chars'] = len(re.findall(r'[^\\w]', url))   # 특수문자 수 (@, ?, =, % 등)\n",
    "    feature['has_at_symbol'] = int('@' in url)                      # @ 기호 포함 여부\n",
    "    feature['path_length'] = len(parsed.path)                       # URL 경로 길이\n",
    "    feature['num_digits'] = len(re.findall(r'\\d', url))             # 숫자 개수\n",
    "\n",
    "    return feature"
   ]
  },
  {
   "cell_type": "code",
   "execution_count": 11,
   "id": "96a20d42",
   "metadata": {},
   "outputs": [],
   "source": [
    "# 특징 병렬 추출\n",
    "# URL 개수가 많아 멀티코어 CPU 활용\n",
    "def extract_features_parallel(urls):\n",
    "    with Pool(cpu_count()) as pool:\n",
    "        return list(tqdm(pool.imap(extract_url_features, urls), total=len(urls), desc=\"Extracting Features\"))"
   ]
  },
  {
   "cell_type": "code",
   "execution_count": null,
   "id": "5bad2c82",
   "metadata": {},
   "outputs": [
    {
     "name": "stderr",
     "output_type": "stream",
     "text": [
      "Extracting Features:   0%|          | 0/9536 [00:00<?, ?it/s]"
     ]
    }
   ],
   "source": [
    "# Feature, Target 설정\n",
    "features = extract_features_parallel(df['url'])\n",
    "X = pd.DataFrame(features)\n",
    "y = df['label'].astype(int)"
   ]
  },
  {
   "cell_type": "code",
   "execution_count": null,
   "id": "e54e6b6c",
   "metadata": {},
   "outputs": [],
   "source": [
    "# 학습 데이터 및 테스트 데이터 분할\n",
    "X_train, X_test, y_train, y_test = train_test_split(X, y, test_size=0.2, random_state=42)"
   ]
  },
  {
   "cell_type": "code",
   "execution_count": null,
   "id": "aebfa6d3",
   "metadata": {},
   "outputs": [],
   "source": [
    "# XGBoost 모델 생성 및 학습\n",
    "# Extreme Gradient Boosting : Gradient Boosting 기법 확장 알고리즘 ➡️ 여러 개의 약한 모델을 순차적으로 학습해서 오류를 보완하며 성능을 높이는 방식 ➡️ 정확도와 실행 속도 사이의 균형이 뛰어남\n",
    "# 학습 방식 : 각 트리는 이전까지의 예측이 틀린 부분을 \"집요하게 물고 늘어져서\" 전체 성능을 개선함\n",
    "\n",
    "# 피싱 URL 탐지에서 유리한 이유 : \n",
    "# 다양한 URL 특성(길이, 도메인 구조, 키워드 포함 여부 등)은 복잡하고 상호작용 많음 ➡️ XGBoost는 이런 비선형적 관계를 잘 포착하며 특성 간 조합도 자동으로 학습함\n",
    "xgb_model = XGBClassifier(\n",
    "    n_estimators=200,   # 부스팅할 트리 개수 : 많을수록 모델 복잡도와 과적합 가능성 증가\n",
    "    max_depth=6,        # 각 트리의 최대 깊이 : 깊을수록 더 복잡한 패턴 학습 가능, 그러나 과적합 위험 있음\n",
    "    learning_rate=0.1,  # 학습률 : 작을수록 학습이 느리지만 안정적임\n",
    "    random_state = 42,  # 난수 고정\n",
    "    use_label_encoder=False,    # 라벨 인코더 사용 여부\n",
    "    eval_metric='logloss',      # 평가 지표 설정 : 로그 손실 함수, 작을수록 예측 확률이 정답에 가까움\n",
    "    n_jobs=-1                   # 사용할 CPU 쓰레드 수 : -1 : 모든 코어 사용\n",
    ")\n",
    "\n",
    "xgb_model.fit(X_train, y_train)"
   ]
  },
  {
   "cell_type": "code",
   "execution_count": null,
   "id": "eb4389da",
   "metadata": {},
   "outputs": [],
   "source": [
    "# 예측 및 성능 평가\n",
    "y_pred = xgb_model.predict(X_test)\n",
    "print(\"\\n정확도:\", accuracy_score(y_test, y_pred))\n",
    "print(classification_report(y_test, y_pred))"
   ]
  }
 ],
 "metadata": {
  "kernelspec": {
   "display_name": ".venv",
   "language": "python",
   "name": "python3"
  },
  "language_info": {
   "codemirror_mode": {
    "name": "ipython",
    "version": 3
   },
   "file_extension": ".py",
   "mimetype": "text/x-python",
   "name": "python",
   "nbconvert_exporter": "python",
   "pygments_lexer": "ipython3",
   "version": "3.9.13"
  }
 },
 "nbformat": 4,
 "nbformat_minor": 5
}
